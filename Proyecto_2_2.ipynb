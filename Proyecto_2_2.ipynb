{
  "nbformat": 4,
  "nbformat_minor": 0,
  "metadata": {
    "colab": {
      "provenance": [],
      "authorship_tag": "ABX9TyOdVyUEOlfP9yCpGEFe+yvV",
      "include_colab_link": true
    },
    "kernelspec": {
      "name": "python3",
      "display_name": "Python 3"
    },
    "language_info": {
      "name": "python"
    }
  },
  "cells": [
    {
      "cell_type": "markdown",
      "metadata": {
        "id": "view-in-github",
        "colab_type": "text"
      },
      "source": [
        "<a href=\"https://colab.research.google.com/github/marismendi9/CreditCardFraudDetection/blob/main/Proyecto_2_2.ipynb\" target=\"_parent\"><img src=\"https://colab.research.google.com/assets/colab-badge.svg\" alt=\"Open In Colab\"/></a>"
      ]
    },
    {
      "cell_type": "markdown",
      "source": [
        "# **Proyecto 2**\n",
        "\n",
        "* **Nombre del proyecto**: Detección de fraude en tarjetas de crédito\n",
        "* **Nombre completo**: Mariana Arismendi\n",
        "* **ID Coding Dojo**: 80511\n",
        "* **Track**: Advanced Machine Learning"
      ],
      "metadata": {
        "id": "X_nFbPbDsZzm"
      }
    },
    {
      "cell_type": "markdown",
      "source": [
        "# **Detección de fraude en tarjetas de crédito**\n",
        "\n",
        "La globalización nos ha llevado a desarrollar nuevas técnicas que permita a las industrias llegar a más clientes con la mayor facilidad posible. Las tarjetas de crédito ha sido uno de los inventos nacidos del boom de la tecnología y de una forma de la necesidad de llevar una billetera digital que permita efectuar compras y recibir dinero de forma virtual, esto genera más comodidad y seguridad, aparentemente.\n",
        "\n",
        "El boom de la digitalización no solo ha permitido conectar a la humanidad más que nunca, si no también se ha prestado para que personajes maliciosos, como siempre han habido, se valgan de estos medios para realizar desfalcos a otras personas.\n",
        "\n",
        "Sin embargo, esto no se queda ahí, la tecnología cada día avanza más y al día de hoy existen técnicas de verificación de identidad que ponen varios filtros al momento de usar las tarjetas de crédito y, cuando todo lo anterior falle, a continuación presento diferentes técnicas de machine learning de aprendizaje supervisado que permita analizar datos históricos y patrones para la identificación exitosa de posibles transacciones fraudulentas que permitan al sistema bancario bloquear determinadas transacciones hasta que se verifique la naturaleza de las mismas con el fin de reducir al mínimo los fraudes de tarjetas de crédito y permita fortalecer los sistemas bancarios de verificación mismos."
      ],
      "metadata": {
        "id": "Xi3CeBhHt8fK"
      }
    },
    {
      "cell_type": "code",
      "execution_count": 31,
      "metadata": {
        "id": "XOBVQecUeyXU",
        "colab": {
          "base_uri": "https://localhost:8080/"
        },
        "outputId": "e852d7a9-5cfb-4c5e-84c7-497b11f8d465"
      },
      "outputs": [
        {
          "output_type": "stream",
          "name": "stdout",
          "text": [
            "Drive already mounted at /content/drive; to attempt to forcibly remount, call drive.mount(\"/content/drive\", force_remount=True).\n"
          ]
        }
      ],
      "source": [
        "# Montar Google Colab para cargar datos\n",
        "from google.colab import drive\n",
        "drive.mount('/content/drive')"
      ]
    },
    {
      "cell_type": "code",
      "source": [
        "#Importar las bibliotecas\n",
        "import pandas as pd\n",
        "import numpy as np\n",
        "import matplotlib.pyplot as plt\n",
        "import seaborn as sns"
      ],
      "metadata": {
        "id": "uwxUJvgmfGBw"
      },
      "execution_count": 32,
      "outputs": []
    },
    {
      "cell_type": "code",
      "source": [
        "# Cargar los datos\n",
        "df = pd.read_csv('/content/drive/MyDrive/Codes Dojo/2 - Machine Learning/datasets/creditcard.csv')\n",
        "\n",
        "# Leer los datos\n",
        "df.head()"
      ],
      "metadata": {
        "id": "FF8_rQFDfE9L",
        "colab": {
          "base_uri": "https://localhost:8080/",
          "height": 235
        },
        "outputId": "066dd015-8674-431b-9ca4-e16444ae0571"
      },
      "execution_count": 33,
      "outputs": [
        {
          "output_type": "execute_result",
          "data": {
            "text/plain": [
              "   Time        V1        V2        V3        V4        V5        V6        V7  \\\n",
              "0   0.0 -1.359807 -0.072781  2.536347  1.378155 -0.338321  0.462388  0.239599   \n",
              "1   0.0  1.191857  0.266151  0.166480  0.448154  0.060018 -0.082361 -0.078803   \n",
              "2   1.0 -1.358354 -1.340163  1.773209  0.379780 -0.503198  1.800499  0.791461   \n",
              "3   1.0 -0.966272 -0.185226  1.792993 -0.863291 -0.010309  1.247203  0.237609   \n",
              "4   2.0 -1.158233  0.877737  1.548718  0.403034 -0.407193  0.095921  0.592941   \n",
              "\n",
              "         V8        V9  ...       V21       V22       V23       V24       V25  \\\n",
              "0  0.098698  0.363787  ... -0.018307  0.277838 -0.110474  0.066928  0.128539   \n",
              "1  0.085102 -0.255425  ... -0.225775 -0.638672  0.101288 -0.339846  0.167170   \n",
              "2  0.247676 -1.514654  ...  0.247998  0.771679  0.909412 -0.689281 -0.327642   \n",
              "3  0.377436 -1.387024  ... -0.108300  0.005274 -0.190321 -1.175575  0.647376   \n",
              "4 -0.270533  0.817739  ... -0.009431  0.798278 -0.137458  0.141267 -0.206010   \n",
              "\n",
              "        V26       V27       V28  Amount  Class  \n",
              "0 -0.189115  0.133558 -0.021053  149.62      0  \n",
              "1  0.125895 -0.008983  0.014724    2.69      0  \n",
              "2 -0.139097 -0.055353 -0.059752  378.66      0  \n",
              "3 -0.221929  0.062723  0.061458  123.50      0  \n",
              "4  0.502292  0.219422  0.215153   69.99      0  \n",
              "\n",
              "[5 rows x 31 columns]"
            ],
            "text/html": [
              "\n",
              "  <div id=\"df-b8f0fe74-b30a-4fa0-91c9-abb318146fa0\">\n",
              "    <div class=\"colab-df-container\">\n",
              "      <div>\n",
              "<style scoped>\n",
              "    .dataframe tbody tr th:only-of-type {\n",
              "        vertical-align: middle;\n",
              "    }\n",
              "\n",
              "    .dataframe tbody tr th {\n",
              "        vertical-align: top;\n",
              "    }\n",
              "\n",
              "    .dataframe thead th {\n",
              "        text-align: right;\n",
              "    }\n",
              "</style>\n",
              "<table border=\"1\" class=\"dataframe\">\n",
              "  <thead>\n",
              "    <tr style=\"text-align: right;\">\n",
              "      <th></th>\n",
              "      <th>Time</th>\n",
              "      <th>V1</th>\n",
              "      <th>V2</th>\n",
              "      <th>V3</th>\n",
              "      <th>V4</th>\n",
              "      <th>V5</th>\n",
              "      <th>V6</th>\n",
              "      <th>V7</th>\n",
              "      <th>V8</th>\n",
              "      <th>V9</th>\n",
              "      <th>...</th>\n",
              "      <th>V21</th>\n",
              "      <th>V22</th>\n",
              "      <th>V23</th>\n",
              "      <th>V24</th>\n",
              "      <th>V25</th>\n",
              "      <th>V26</th>\n",
              "      <th>V27</th>\n",
              "      <th>V28</th>\n",
              "      <th>Amount</th>\n",
              "      <th>Class</th>\n",
              "    </tr>\n",
              "  </thead>\n",
              "  <tbody>\n",
              "    <tr>\n",
              "      <th>0</th>\n",
              "      <td>0.0</td>\n",
              "      <td>-1.359807</td>\n",
              "      <td>-0.072781</td>\n",
              "      <td>2.536347</td>\n",
              "      <td>1.378155</td>\n",
              "      <td>-0.338321</td>\n",
              "      <td>0.462388</td>\n",
              "      <td>0.239599</td>\n",
              "      <td>0.098698</td>\n",
              "      <td>0.363787</td>\n",
              "      <td>...</td>\n",
              "      <td>-0.018307</td>\n",
              "      <td>0.277838</td>\n",
              "      <td>-0.110474</td>\n",
              "      <td>0.066928</td>\n",
              "      <td>0.128539</td>\n",
              "      <td>-0.189115</td>\n",
              "      <td>0.133558</td>\n",
              "      <td>-0.021053</td>\n",
              "      <td>149.62</td>\n",
              "      <td>0</td>\n",
              "    </tr>\n",
              "    <tr>\n",
              "      <th>1</th>\n",
              "      <td>0.0</td>\n",
              "      <td>1.191857</td>\n",
              "      <td>0.266151</td>\n",
              "      <td>0.166480</td>\n",
              "      <td>0.448154</td>\n",
              "      <td>0.060018</td>\n",
              "      <td>-0.082361</td>\n",
              "      <td>-0.078803</td>\n",
              "      <td>0.085102</td>\n",
              "      <td>-0.255425</td>\n",
              "      <td>...</td>\n",
              "      <td>-0.225775</td>\n",
              "      <td>-0.638672</td>\n",
              "      <td>0.101288</td>\n",
              "      <td>-0.339846</td>\n",
              "      <td>0.167170</td>\n",
              "      <td>0.125895</td>\n",
              "      <td>-0.008983</td>\n",
              "      <td>0.014724</td>\n",
              "      <td>2.69</td>\n",
              "      <td>0</td>\n",
              "    </tr>\n",
              "    <tr>\n",
              "      <th>2</th>\n",
              "      <td>1.0</td>\n",
              "      <td>-1.358354</td>\n",
              "      <td>-1.340163</td>\n",
              "      <td>1.773209</td>\n",
              "      <td>0.379780</td>\n",
              "      <td>-0.503198</td>\n",
              "      <td>1.800499</td>\n",
              "      <td>0.791461</td>\n",
              "      <td>0.247676</td>\n",
              "      <td>-1.514654</td>\n",
              "      <td>...</td>\n",
              "      <td>0.247998</td>\n",
              "      <td>0.771679</td>\n",
              "      <td>0.909412</td>\n",
              "      <td>-0.689281</td>\n",
              "      <td>-0.327642</td>\n",
              "      <td>-0.139097</td>\n",
              "      <td>-0.055353</td>\n",
              "      <td>-0.059752</td>\n",
              "      <td>378.66</td>\n",
              "      <td>0</td>\n",
              "    </tr>\n",
              "    <tr>\n",
              "      <th>3</th>\n",
              "      <td>1.0</td>\n",
              "      <td>-0.966272</td>\n",
              "      <td>-0.185226</td>\n",
              "      <td>1.792993</td>\n",
              "      <td>-0.863291</td>\n",
              "      <td>-0.010309</td>\n",
              "      <td>1.247203</td>\n",
              "      <td>0.237609</td>\n",
              "      <td>0.377436</td>\n",
              "      <td>-1.387024</td>\n",
              "      <td>...</td>\n",
              "      <td>-0.108300</td>\n",
              "      <td>0.005274</td>\n",
              "      <td>-0.190321</td>\n",
              "      <td>-1.175575</td>\n",
              "      <td>0.647376</td>\n",
              "      <td>-0.221929</td>\n",
              "      <td>0.062723</td>\n",
              "      <td>0.061458</td>\n",
              "      <td>123.50</td>\n",
              "      <td>0</td>\n",
              "    </tr>\n",
              "    <tr>\n",
              "      <th>4</th>\n",
              "      <td>2.0</td>\n",
              "      <td>-1.158233</td>\n",
              "      <td>0.877737</td>\n",
              "      <td>1.548718</td>\n",
              "      <td>0.403034</td>\n",
              "      <td>-0.407193</td>\n",
              "      <td>0.095921</td>\n",
              "      <td>0.592941</td>\n",
              "      <td>-0.270533</td>\n",
              "      <td>0.817739</td>\n",
              "      <td>...</td>\n",
              "      <td>-0.009431</td>\n",
              "      <td>0.798278</td>\n",
              "      <td>-0.137458</td>\n",
              "      <td>0.141267</td>\n",
              "      <td>-0.206010</td>\n",
              "      <td>0.502292</td>\n",
              "      <td>0.219422</td>\n",
              "      <td>0.215153</td>\n",
              "      <td>69.99</td>\n",
              "      <td>0</td>\n",
              "    </tr>\n",
              "  </tbody>\n",
              "</table>\n",
              "<p>5 rows × 31 columns</p>\n",
              "</div>\n",
              "      <button class=\"colab-df-convert\" onclick=\"convertToInteractive('df-b8f0fe74-b30a-4fa0-91c9-abb318146fa0')\"\n",
              "              title=\"Convert this dataframe to an interactive table.\"\n",
              "              style=\"display:none;\">\n",
              "        \n",
              "  <svg xmlns=\"http://www.w3.org/2000/svg\" height=\"24px\"viewBox=\"0 0 24 24\"\n",
              "       width=\"24px\">\n",
              "    <path d=\"M0 0h24v24H0V0z\" fill=\"none\"/>\n",
              "    <path d=\"M18.56 5.44l.94 2.06.94-2.06 2.06-.94-2.06-.94-.94-2.06-.94 2.06-2.06.94zm-11 1L8.5 8.5l.94-2.06 2.06-.94-2.06-.94L8.5 2.5l-.94 2.06-2.06.94zm10 10l.94 2.06.94-2.06 2.06-.94-2.06-.94-.94-2.06-.94 2.06-2.06.94z\"/><path d=\"M17.41 7.96l-1.37-1.37c-.4-.4-.92-.59-1.43-.59-.52 0-1.04.2-1.43.59L10.3 9.45l-7.72 7.72c-.78.78-.78 2.05 0 2.83L4 21.41c.39.39.9.59 1.41.59.51 0 1.02-.2 1.41-.59l7.78-7.78 2.81-2.81c.8-.78.8-2.07 0-2.86zM5.41 20L4 18.59l7.72-7.72 1.47 1.35L5.41 20z\"/>\n",
              "  </svg>\n",
              "      </button>\n",
              "      \n",
              "  <style>\n",
              "    .colab-df-container {\n",
              "      display:flex;\n",
              "      flex-wrap:wrap;\n",
              "      gap: 12px;\n",
              "    }\n",
              "\n",
              "    .colab-df-convert {\n",
              "      background-color: #E8F0FE;\n",
              "      border: none;\n",
              "      border-radius: 50%;\n",
              "      cursor: pointer;\n",
              "      display: none;\n",
              "      fill: #1967D2;\n",
              "      height: 32px;\n",
              "      padding: 0 0 0 0;\n",
              "      width: 32px;\n",
              "    }\n",
              "\n",
              "    .colab-df-convert:hover {\n",
              "      background-color: #E2EBFA;\n",
              "      box-shadow: 0px 1px 2px rgba(60, 64, 67, 0.3), 0px 1px 3px 1px rgba(60, 64, 67, 0.15);\n",
              "      fill: #174EA6;\n",
              "    }\n",
              "\n",
              "    [theme=dark] .colab-df-convert {\n",
              "      background-color: #3B4455;\n",
              "      fill: #D2E3FC;\n",
              "    }\n",
              "\n",
              "    [theme=dark] .colab-df-convert:hover {\n",
              "      background-color: #434B5C;\n",
              "      box-shadow: 0px 1px 3px 1px rgba(0, 0, 0, 0.15);\n",
              "      filter: drop-shadow(0px 1px 2px rgba(0, 0, 0, 0.3));\n",
              "      fill: #FFFFFF;\n",
              "    }\n",
              "  </style>\n",
              "\n",
              "      <script>\n",
              "        const buttonEl =\n",
              "          document.querySelector('#df-b8f0fe74-b30a-4fa0-91c9-abb318146fa0 button.colab-df-convert');\n",
              "        buttonEl.style.display =\n",
              "          google.colab.kernel.accessAllowed ? 'block' : 'none';\n",
              "\n",
              "        async function convertToInteractive(key) {\n",
              "          const element = document.querySelector('#df-b8f0fe74-b30a-4fa0-91c9-abb318146fa0');\n",
              "          const dataTable =\n",
              "            await google.colab.kernel.invokeFunction('convertToInteractive',\n",
              "                                                     [key], {});\n",
              "          if (!dataTable) return;\n",
              "\n",
              "          const docLinkHtml = 'Like what you see? Visit the ' +\n",
              "            '<a target=\"_blank\" href=https://colab.research.google.com/notebooks/data_table.ipynb>data table notebook</a>'\n",
              "            + ' to learn more about interactive tables.';\n",
              "          element.innerHTML = '';\n",
              "          dataTable['output_type'] = 'display_data';\n",
              "          await google.colab.output.renderOutput(dataTable, element);\n",
              "          const docLink = document.createElement('div');\n",
              "          docLink.innerHTML = docLinkHtml;\n",
              "          element.appendChild(docLink);\n",
              "        }\n",
              "      </script>\n",
              "    </div>\n",
              "  </div>\n",
              "  "
            ]
          },
          "metadata": {},
          "execution_count": 33
        }
      ]
    },
    {
      "cell_type": "markdown",
      "source": [
        "## **I.- Análisis Exploratorio**"
      ],
      "metadata": {
        "id": "nPdlr3U3bTGx"
      }
    },
    {
      "cell_type": "markdown",
      "source": [
        "### **Descripción del dataset**\n",
        "\n",
        "El conjunto de datos trabajado fue tomado de [Kaggle](https://www.kaggle.com/datasets/mlg-ulb/creditcardfraud).\n",
        "\n",
        "| Característica | Descripción                                                                |   |   |\n",
        "|----------------|----------------------------------------------------------------------------|---|---|\n",
        "| V1 - V28       | Características   numéricas que son el resultado de la transformación PCA |   |   |\n",
        "| Tiempo         | Segundos   transcurridos entre cada transacción y la primera transacción   |   |   |\n",
        "| Importe        | Importe   de la transacción                                                |   |   |\n",
        "| Clase          | Fraude  (1) o de otro tipo (0)                                             |   |   |"
      ],
      "metadata": {
        "id": "hiABsBest0F_"
      }
    },
    {
      "cell_type": "code",
      "source": [
        "# Tamaño de la data\n",
        "df.shape"
      ],
      "metadata": {
        "colab": {
          "base_uri": "https://localhost:8080/"
        },
        "id": "DBefgHAabSkf",
        "outputId": "c82b5add-a95d-4733-f983-a1e2e132df5c"
      },
      "execution_count": 34,
      "outputs": [
        {
          "output_type": "execute_result",
          "data": {
            "text/plain": [
              "(284807, 31)"
            ]
          },
          "metadata": {},
          "execution_count": 34
        }
      ]
    },
    {
      "cell_type": "code",
      "source": [
        "# Corroborar los nombres de las columnas\n",
        "df.columns"
      ],
      "metadata": {
        "colab": {
          "base_uri": "https://localhost:8080/"
        },
        "id": "hMTPlmK1ZPm-",
        "outputId": "0d659f30-f889-45af-ce19-7b6d22ca0c62"
      },
      "execution_count": 35,
      "outputs": [
        {
          "output_type": "execute_result",
          "data": {
            "text/plain": [
              "Index(['Time', 'V1', 'V2', 'V3', 'V4', 'V5', 'V6', 'V7', 'V8', 'V9', 'V10',\n",
              "       'V11', 'V12', 'V13', 'V14', 'V15', 'V16', 'V17', 'V18', 'V19', 'V20',\n",
              "       'V21', 'V22', 'V23', 'V24', 'V25', 'V26', 'V27', 'V28', 'Amount',\n",
              "       'Class'],\n",
              "      dtype='object')"
            ]
          },
          "metadata": {},
          "execution_count": 35
        }
      ]
    },
    {
      "cell_type": "code",
      "source": [
        "# Chequear duplicados\n",
        "df.duplicated().sum()"
      ],
      "metadata": {
        "colab": {
          "base_uri": "https://localhost:8080/"
        },
        "id": "2c2H6Z2ub5b8",
        "outputId": "e6b4fe20-17fb-4c9a-a313-48343602d3dd"
      },
      "execution_count": 36,
      "outputs": [
        {
          "output_type": "execute_result",
          "data": {
            "text/plain": [
              "1081"
            ]
          },
          "metadata": {},
          "execution_count": 36
        }
      ]
    },
    {
      "cell_type": "code",
      "source": [
        "# Remover duplicados y volver a chequear\n",
        "df = df.drop_duplicates()\n",
        "df.duplicated().sum()"
      ],
      "metadata": {
        "colab": {
          "base_uri": "https://localhost:8080/"
        },
        "id": "0yPUW4kVcEqI",
        "outputId": "d38c734b-b9fe-462a-de92-1fbe865a2ced"
      },
      "execution_count": 37,
      "outputs": [
        {
          "output_type": "execute_result",
          "data": {
            "text/plain": [
              "0"
            ]
          },
          "metadata": {},
          "execution_count": 37
        }
      ]
    },
    {
      "cell_type": "code",
      "source": [
        "# Resumen de la información\n",
        "def resumen_col(df,col):\n",
        "    pd_series = df[col]\n",
        "    \n",
        "    # Elementos distintos \n",
        "    n_unique = pd_series.unique()\n",
        "    \n",
        "    # Elementos vacios\n",
        "    \n",
        "    n_vacios = pd_series[pd_series.isna()]\n",
        "    \n",
        "    df_info = pd.DataFrame({\n",
        "        'Columna': [col],\n",
        "        'Únicos': [len(n_unique)],\n",
        "        'Nulos': [len(n_vacios)]\n",
        "    })\n",
        "    \n",
        "    return df_info"
      ],
      "metadata": {
        "id": "YFXh0m26fTK8"
      },
      "execution_count": 38,
      "outputs": []
    },
    {
      "cell_type": "code",
      "source": [
        "# Revisar valores nulos/únicos/porcentaje de nulos\n",
        "frames = []\n",
        "\n",
        "for col in df.columns:\n",
        "  aux_df = resumen_col(df, col)\n",
        "  frames.append(aux_df)\n",
        "\n",
        "df_info = pd.concat(frames).reset_index(drop = True)\n",
        "df_info['% nulos'] = df_info['Nulos']/len(df)\n",
        "print(df_info)\n",
        "\n",
        "# Revisar tipos de datos\n",
        "print('\\nTipos de datos:\\n',df.dtypes)"
      ],
      "metadata": {
        "colab": {
          "base_uri": "https://localhost:8080/"
        },
        "id": "mfeHLwd0biGj",
        "outputId": "b9cc4938-d788-4b32-9198-e07eab0636b7"
      },
      "execution_count": 39,
      "outputs": [
        {
          "output_type": "stream",
          "name": "stdout",
          "text": [
            "   Columna  Únicos  Nulos  % nulos\n",
            "0     Time  124592      0      0.0\n",
            "1       V1  275663      0      0.0\n",
            "2       V2  275663      0      0.0\n",
            "3       V3  275663      0      0.0\n",
            "4       V4  275663      0      0.0\n",
            "5       V5  275663      0      0.0\n",
            "6       V6  275663      0      0.0\n",
            "7       V7  275663      0      0.0\n",
            "8       V8  275663      0      0.0\n",
            "9       V9  275663      0      0.0\n",
            "10     V10  275663      0      0.0\n",
            "11     V11  275663      0      0.0\n",
            "12     V12  275663      0      0.0\n",
            "13     V13  275663      0      0.0\n",
            "14     V14  275663      0      0.0\n",
            "15     V15  275663      0      0.0\n",
            "16     V16  275663      0      0.0\n",
            "17     V17  275663      0      0.0\n",
            "18     V18  275663      0      0.0\n",
            "19     V19  275663      0      0.0\n",
            "20     V20  275663      0      0.0\n",
            "21     V21  275663      0      0.0\n",
            "22     V22  275663      0      0.0\n",
            "23     V23  275663      0      0.0\n",
            "24     V24  275663      0      0.0\n",
            "25     V25  275663      0      0.0\n",
            "26     V26  275663      0      0.0\n",
            "27     V27  275663      0      0.0\n",
            "28     V28  275663      0      0.0\n",
            "29  Amount   32767      0      0.0\n",
            "30   Class       2      0      0.0\n",
            "\n",
            "Tipos de datos:\n",
            " Time      float64\n",
            "V1        float64\n",
            "V2        float64\n",
            "V3        float64\n",
            "V4        float64\n",
            "V5        float64\n",
            "V6        float64\n",
            "V7        float64\n",
            "V8        float64\n",
            "V9        float64\n",
            "V10       float64\n",
            "V11       float64\n",
            "V12       float64\n",
            "V13       float64\n",
            "V14       float64\n",
            "V15       float64\n",
            "V16       float64\n",
            "V17       float64\n",
            "V18       float64\n",
            "V19       float64\n",
            "V20       float64\n",
            "V21       float64\n",
            "V22       float64\n",
            "V23       float64\n",
            "V24       float64\n",
            "V25       float64\n",
            "V26       float64\n",
            "V27       float64\n",
            "V28       float64\n",
            "Amount    float64\n",
            "Class       int64\n",
            "dtype: object\n"
          ]
        }
      ]
    },
    {
      "cell_type": "markdown",
      "source": [
        "* Vemos que no existen datos faltantes y los tipos de datos son coherentes"
      ],
      "metadata": {
        "id": "m8piByzXz-Hq"
      }
    },
    {
      "cell_type": "code",
      "source": [
        "# Verificamos coherencia en la variable Clase\n",
        "df.Class.unique()"
      ],
      "metadata": {
        "colab": {
          "base_uri": "https://localhost:8080/"
        },
        "id": "IpIXPvU-cPzn",
        "outputId": "22aade84-f773-451c-94dc-728be307e5ad"
      },
      "execution_count": 40,
      "outputs": [
        {
          "output_type": "execute_result",
          "data": {
            "text/plain": [
              "array([0, 1])"
            ]
          },
          "metadata": {},
          "execution_count": 40
        }
      ]
    },
    {
      "cell_type": "code",
      "source": [
        "# Balanceo de los datos\n",
        "df.Class.value_counts(normalize = True)"
      ],
      "metadata": {
        "colab": {
          "base_uri": "https://localhost:8080/"
        },
        "id": "NQgXGpyRbU4f",
        "outputId": "a8c51167-3dff-4f5b-bb40-47dae44e6920"
      },
      "execution_count": 41,
      "outputs": [
        {
          "output_type": "execute_result",
          "data": {
            "text/plain": [
              "0    0.998333\n",
              "1    0.001667\n",
              "Name: Class, dtype: float64"
            ]
          },
          "metadata": {},
          "execution_count": 41
        }
      ]
    },
    {
      "cell_type": "markdown",
      "source": [
        "* Observamos un notorio desbalanceo entre las transacciones, esto tiene sentido desde el punto de que los bancos poseen buenos sistemas seguridad y de verificación, siendo así que de las más de 270.000 transacciones, el 0,16% corresponden a transacciones fraudulentas, algo así como unas 460; así que, a pesar de que el dataset se encuentra desbalanceado, partimos de un buen escenario inicial."
      ],
      "metadata": {
        "id": "VLmNj0yubj4a"
      }
    },
    {
      "cell_type": "code",
      "source": [
        "# Imagenes exploratorias\n",
        "\n",
        "colors = ['white','white']\n",
        "\n",
        "fraud = len(df[df['Class'] == 1]) / len(df) * 100\n",
        "nofraud = len(df[df['Class'] == 0]) / len(df) * 100\n",
        "fraud_percentage = [nofraud, fraud]\n",
        "fig,ax = plt.subplots(nrows = 1, ncols = 2,figsize = (20,5))\n",
        "\n",
        "plt.subplot(1,2,1)\n",
        "plt.pie(fraud_percentage, labels = ['Fraud','No Fraud'], autopct='%1.1f%%', startangle = 90, colors = colors,\n",
        "       wedgeprops = {'edgecolor' : 'black','linewidth': 1,'antialiased' : True})\n",
        "\n",
        "plt.subplot(1,2,2)\n",
        "plt.hist(x = df['Class'].tolist(), bins = 2, color='black', rwidth=0.85)\n",
        "plt.title('Clases de los datos')\n",
        "plt.ylabel('Número de casos')\n",
        "plt.xlabel('Fraud                                                              No Fraud');"
      ],
      "metadata": {
        "colab": {
          "base_uri": "https://localhost:8080/",
          "height": 350
        },
        "id": "N-gp-9dndR0m",
        "outputId": "b5702ca0-6d73-446e-97c5-a75f904fe0d9"
      },
      "execution_count": 52,
      "outputs": [
        {
          "output_type": "display_data",
          "data": {
            "text/plain": [
              "<Figure size 1440x360 with 2 Axes>"
            ],
            "image/png": "[encoded data removed]"
          },
          "metadata": {
            "needs_background": "light"
          }
        }
      ]
    },
    {
      "cell_type": "markdown",
      "source": [
        "## **Referencias**\n",
        "\n",
        "* [Curso CodingDojo-DataScience](https://github.com/fralfaro/CodingDojo-DataScience)\n",
        "* [Curso MAT281_2022](https://github.com/fralfaro/MAT281_2022)\n",
        "* [Credit Card Fraud Detection](https://www.kaggle.com/code/abigaisclcabascango/notebook22aebe45ef)"
      ],
      "metadata": {
        "id": "A5RaIx0gtKlm"
      }
    }
  ]
}